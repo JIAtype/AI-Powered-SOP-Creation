{
 "cells": [
  {
   "cell_type": "markdown",
   "id": "49d038aa",
   "metadata": {},
   "source": [
    "https://blog.csdn.net/sinat_26917383/article/details/139884063"
   ]
  },
  {
   "cell_type": "markdown",
   "id": "d5ce9ae1",
   "metadata": {},
   "source": [
    "(base) C:\\Users\\splssipifmsadmin>conda create --prefix D:\\my_envs\\wl python=3.10"
   ]
  },
  {
   "cell_type": "markdown",
   "id": "f4f80bf3",
   "metadata": {},
   "source": [
    "(base) C:\\Users\\splssipifmsadmin>conda activate D:\\my_envs\\wl"
   ]
  },
  {
   "cell_type": "markdown",
   "id": "d4812569",
   "metadata": {},
   "source": [
    "(D:\\my_envs\\wl) C:\\Users\\splssipifmsadmin>pip install google-generativeai"
   ]
  },
  {
   "cell_type": "markdown",
   "id": "15aca041",
   "metadata": {},
   "source": [
    "conda install ipykernel"
   ]
  },
  {
   "cell_type": "markdown",
   "id": "422f2f57",
   "metadata": {},
   "source": [
    "(D:\\my_envs\\wl) C:\\Users\\splssipifmsadmin>pip install  langchain-google-genai"
   ]
  },
  {
   "cell_type": "markdown",
   "id": "827d640c",
   "metadata": {},
   "source": [
    "(D:\\my_envs\\wl) C:\\Users\\splssipifmsadmin>pip install -q -U google-genai"
   ]
  },
  {
   "cell_type": "code",
   "execution_count": 6,
   "id": "36b86b96",
   "metadata": {},
   "outputs": [
    {
     "name": "stdout",
     "output_type": "stream",
     "text": [
      "AI learns patterns from data to make predictions or decisions.\n",
      "\n"
     ]
    }
   ],
   "source": [
    "from google import genai\n",
    "\n",
    "client = genai.Client(api_key=\"假假\")\n",
    "\n",
    "response = client.models.generate_content(\n",
    "    model=\"gemini-2.0-flash\", contents=\"Explain how AI works in a few words\"\n",
    ")\n",
    "print(response.text)"
   ]
  },
  {
   "cell_type": "code",
   "execution_count": 7,
   "id": "e3fd9f8e",
   "metadata": {},
   "outputs": [],
   "source": [
    "myfile = client.files.upload(file=\"demo.mp4\")"
   ]
  },
  {
   "cell_type": "code",
   "execution_count": 8,
   "id": "56ddb2bc",
   "metadata": {},
   "outputs": [
    {
     "name": "stdout",
     "output_type": "stream",
     "text": [
      "name='files/bahh3ot76k75' display_name=None mime_type='video/mp4' size_bytes=34926527 create_time=datetime.datetime(2025, 5, 28, 4, 56, 11, 954607, tzinfo=TzInfo(UTC)) expiration_time=datetime.datetime(2025, 5, 30, 4, 56, 11, 919528, tzinfo=TzInfo(UTC)) update_time=datetime.datetime(2025, 5, 28, 4, 56, 17, 755567, tzinfo=TzInfo(UTC)) sha256_hash='N2RlMmFiMjZmMzYxZjk5MmJiMTE5OTBkNzI3NDZhMjk5N2FjOGY3YjkxM2M2YzJmZmFhZDRlZWE4NWVhMDFiNQ==' uri='https://generativelanguage.googleapis.com/v1beta/files/bahh3ot76k75' download_uri=None state=<FileState.ACTIVE: 'ACTIVE'> source=<FileSource.UPLOADED: 'UPLOADED'> video_metadata={'videoDuration': '151s'} error=None\n"
     ]
    }
   ],
   "source": [
    "file_name = myfile.name\n",
    "myfile = client.files.get(name=file_name)\n",
    "print(myfile)"
   ]
  },
  {
   "cell_type": "code",
   "execution_count": 9,
   "id": "de96b00f",
   "metadata": {},
   "outputs": [
    {
     "name": "stdout",
     "output_type": "stream",
     "text": [
      "Okay, I've analyzed the video and prepared a structured breakdown of the piercing needle and connecting bolt assembly process. Here's the JSON output:\n",
      "\n",
      "```json\n",
      "{\n",
      "  \"processName\": \"Piercing Needle and Connecting Bolt Assembly\",\n",
      "  \"steps\": [\n",
      "    {\n",
      "      \"timestamp\": \"0:08\",\n",
      "      \"description\": \"The worker puts an oil ring onto a blank piercing needle assembly.\",\n",
      "      \"tools\": [\n",
      "        \"Gloves\",\n",
      "        \"Oil\"\n",
      "      ],\n",
      "      \"materials\": [\n",
      "        \"Piercing needle assembly\",\n",
      "        \"Oil ring\"\n",
      "      ],\n",
      "      \"qualityInspection\": \"Check for proper oil ring placement and integrity.\",\n",
      "      \"safetyPrecautions\": \"Wear gloves to prevent contamination and skin irritation.\",\n",
      "      \"potentialRisks\": \"Incorrect oil ring placement could lead to leaks or component failure.\"\n",
      "    },\n",
      "    {\n",
      "      \"timestamp\": \"0:16\",\n",
      "      \"description\": \"The worker uses a press to add the top of the piercing needle assembly.\",\n",
      "      \"tools\": [\n",
      "        \"Press\"\n",
      "      ],\n",
      "      \"materials\": [\n",
      "        \"Piercing needle assembly\",\n",
      "        \"Top of the piercing needle assembly\"\n",
      "      ],\n",
      "      \"qualityInspection\": \"Check for the piercing needle assembly being properly pressed and fully assembled.\",\n",
      "      \"safetyPrecautions\": \"Operator must be cautious not to touch any machine parts while in use. \",\n",
      "      \"potentialRisks\": \"Poorly assembled or improperly pressed piercing needle.\"\n",
      "    },\n",
      "    {\n",
      "      \"timestamp\": \"0:37\",\n",
      "      \"description\": \"Adjust the adjustable angle jig to 10 or 15 degrees, depending on the type of bolt.\",\n",
      "      \"tools\": [\n",
      "        \"Adjustable angle jig\",\n",
      "        \"Allen wrench\"\n",
      "      ],\n",
      "      \"materials\": [\n",
      "        \"BLM6000J\",\n",
      "        \"BLMTS01J\",\n",
      "        \"BLT6000J\",\n",
      "        \"BLR5600J\",\n",
      "        \"BL57000J\",\n",
      "        \"BLM6100J\"\n",
      "      ],\n",
      "      \"qualityInspection\": \"Check for a 10-degree angle for all bolts or 15-degree angle for BLM6000J/BLMTS01J/BLT6000J/BLR5600J/BL57000J/BLM6100J type bolts.\",\n",
      "      \"safetyPrecautions\": \"Operator must be cautious to not damage the assembly during angle configuration. \",\n",
      "      \"potentialRisks\": \"Improper angel could cause the assembly to be installed incorrectly.\"\n",
      "    },\n",
      "    {\n",
      "      \"timestamp\": \"1:18\",\n",
      "      \"description\": \"The operator inserts the breaking lever into the adjustable jig\",\n",
      "      \"tools\": [\n",
      "        \"Adjustable angle jig\"\n",
      "      ],\n",
      "      \"materials\": [\n",
      "        \"Breaking lever\"\n",
      "      ],\n",
      "      \"qualityInspection\": \"Check for proper fitting between the Breaking lever and the jig.\",\n",
      "      \"safetyPrecautions\": \"Operator must be cautious not to damage the assembly during angle configuration. \",\n",
      "      \"potentialRisks\": \"Improper angel could cause the assembly to be installed incorrectly.\"\n",
      "    },\n",
      "    {\n",
      "      \"timestamp\": \"1:27\",\n",
      "      \"description\": \"Operator inserts a piercing needle to the tip of a puncher, then inserts the piercing needle and puncher into the breaking lever.\",\n",
      "      \"tools\": [\n",
      "        \"Puncher\",\n",
      "        \"Mallet\"\n",
      "      ],\n",
      "      \"materials\": [\n",
      "        \"Piercing needle\",\n",
      "        \"Breaking lever\"\n",
      "      ],\n",
      "      \"qualityInspection\": \"Check for proper fitting between the needle, puncher and the lever.\",\n",
      "      \"safetyPrecautions\": \"Operator must be cautious to not damage the lever. \",\n",
      "      \"potentialRisks\": \"Improper angel could cause the assembly to be installed incorrectly.\"\n",
      "    },\n",
      "    {\n",
      "      \"timestamp\": \"1:50\",\n",
      "      \"description\": \"Apply a gasket over the coating or 2-3 threading on the connecting bolt, then put it on a holding jig.\",\n",
      "      \"tools\": [\n",
      "        \"Holding Jig\"\n",
      "      ],\n",
      "      \"materials\": [\n",
      "        \"Connecting Bolt\",\n",
      "        \"Gasket\"\n",
      "      ],\n",
      "      \"qualityInspection\": \"Check for coating on the gasket and its 2-3 threading on the connecting bolt. Silver or black for the connecting bolt depending on type.\",\n",
      "      \"safetyPrecautions\": \"Wear Gloves while coating.\",\n",
      "      \"potentialRisks\": \"Incompatible bolt and improper coating\"\n",
      "    },\n",
      "    {\n",
      "      \"timestamp\": \"2:09\",\n",
      "      \"description\": \"A connecting bolt, which has gasket on it, is inserted in to the breaking lever to be installed. Apply torque.\",\n",
      "      \"tools\": [\n",
      "        \"Torque driver\"\n",
      "      ],\n",
      "      \"materials\": [\n",
      "        \"Connecting bolt\",\n",
      "        \"Breaking Lever\"\n",
      "      ],\n",
      "      \"qualityInspection\": \"Check the torque with a torque driver.\",\n",
      "      \"safetyPrecautions\": \"Handle with care.\",\n",
      "      \"potentialRisks\": \"Damage or break.\",\n",
      "    },\n",
      "        {\n",
      "      \"timestamp\": \"2:25\",\n",
      "      \"description\": \"Put the breaking lever with its connected parts on the WIP jig for further process.\",\n",
      "      \"tools\": [\n",
      "        \"WIP Jig\"\n",
      "      ],\n",
      "      \"materials\": [\n",
      "        \"Breaking Lever\",\n",
      "        \"Other related parts\"\n",
      "      ],\n",
      "      \"qualityInspection\": \"Check for proper final assembly\",\n",
      "      \"safetyPrecautions\": \"Handle with care.\",\n",
      "      \"potentialRisks\": \"Damage or break.\",\n",
      "    }\n",
      "  ],\n",
      "  \"generalSafetyPrecautions\": [\n",
      "    \"Follow standard operating procedures (SOPs).\",\n",
      "    \"Ensure proper training on equipment usage.\",\n",
      "    \"Maintain a clean and organized workspace.\",\n",
      "    \"Immediately report any equipment malfunctions or safety hazards.\"\n",
      "  ],\n",
      "  \"operationStandardsAndRequirements\": [\n",
      "    \"Adhere to specified torque values for bolt tightening.\",\n",
      "    \"Use only approved materials and components.\",\n",
      "    \"Visually inspect parts for defects before assembly.\",\n",
      "    \"Document all inspection results and process parameters.\"\n",
      "  ]\n",
      "}\n",
      "```\n",
      "\n",
      "**Key Observations and Explanations:**\n",
      "\n",
      "*   **Detailed Steps:** Each step is broken down into a clear action, tools used, materials involved, quality checks, safety measures, and potential risk areas.\n",
      "*   **Quality Inspection Points:** I've highlighted where inspections should occur, emphasizing visual checks for defects, proper alignment, secure fastening, and functionality.  This includes dimensions, surface finish, etc.\n",
      "*   **Safety:** The response clearly outlines the precautions that would be implemented when conducting this particular industrial process.\n",
      "\n",
      "This structured JSON provides a comprehensive overview of the operation, suitable for training, process control, and risk assessment purposes.\n",
      "\n"
     ]
    }
   ],
   "source": [
    "response = client.models.generate_content(\n",
    "    model=\"gemini-2.0-flash\",\n",
    "    contents=[myfile, \"Analyze this industrial operation video. Please identify and describe:1. Detailed operation steps (in chronological order).2. Key quality inspection points and inspection methods.3. Safety precautions.4. Tool and material use.5. Potential risk points.6. Operation standards and requirements.Output format: structured JSON, timestamp must be clearly marked\"],\n",
    ")\n",
    "\n",
    "print(response.text)"
   ]
  },
  {
   "cell_type": "code",
   "execution_count": null,
   "id": "4d42c051",
   "metadata": {},
   "outputs": [],
   "source": [
    "import json\n",
    "a = {\n",
    "    \"name\": \"dabao\",\n",
    "    \"id\":123,\n",
    "    \"hobby\": {\n",
    "        \"sport\": \"basketball\",\n",
    "        \"book\": \"python study\"\n",
    "    }\n",
    "}\n",
    "b = json.dumps(a)\n",
    "f2 = open('new_json.json', 'w')\n",
    "f2.write(b)\n",
    "f2.close()"
   ]
  },
  {
   "cell_type": "code",
   "execution_count": null,
   "id": "aff6048d",
   "metadata": {},
   "outputs": [],
   "source": [
    "# 定义指令模板\n",
    "GEMINI_ANALYSIS_PROMPT = \"\"\"\n",
    "Analyze this industrial operation video and extract the following information:\n",
    "\n",
    "Equipment Information:\n",
    "- Machine ID: {machine_id}\n",
    "- Part ID: {part_id}\n",
    "- Process: {process_id} (Step {process_number})\n",
    "\n",
    "Please identify and describe:\n",
    "\n",
    "1. Detailed operation steps (in chronological order)\n",
    "   - Include precise timestamps for each step\n",
    "   - Describe hand movements and tool usage\n",
    "   - Note any quality checkpoints\n",
    "\n",
    "2. Key quality inspection points and inspection methods\n",
    "   - Visual inspection requirements\n",
    "   - Measurement procedures\n",
    "   - Acceptance criteria\n",
    "\n",
    "3. Safety precautions\n",
    "   - PPE requirements\n",
    "   - Hazard identification\n",
    "   - Emergency procedures\n",
    "\n",
    "4. Tool and material usage\n",
    "   - Required tools list\n",
    "   - Material specifications\n",
    "   - Handling procedures\n",
    "\n",
    "5. Potential risk points\n",
    "   - Safety hazards\n",
    "   - Quality risks\n",
    "   - Process deviations\n",
    "\n",
    "6. Operation standards and requirements\n",
    "   - Time standards\n",
    "   - Quality standards\n",
    "   - Performance metrics\n",
    "\n",
    "Output Requirements:\n",
    "- Format: Structured JSON\n",
    "- Timestamps must be clearly marked (MM:SS format)\n",
    "- Include confidence scores for each identification\n",
    "- Provide detailed descriptions for each step\n",
    "\"\"\""
   ]
  },
  {
   "cell_type": "code",
   "execution_count": null,
   "id": "9a0d1d11",
   "metadata": {},
   "outputs": [],
   "source": [
    "formatted_prompt = GEMINI_ANALYSIS_PROMPT.format(\n",
    "    machine_id=metadata.get('machine_id', 'N/A'),\n",
    "    part_id=metadata.get('part_id', 'N/A'),\n",
    "    process_id=metadata.get('process_id', 'N/A'),\n",
    "    process_number=metadata.get('process_number', 'N/A')\n",
    ")\n",
    "\n",
    "response = client.models.generate_content(\n",
    "    model=\"gemini-2.0-flash\",\n",
    "    contents=[video_file, formatted_prompt]\n",
    ")\n",
    "\n",
    "print(response.text)"
   ]
  },
  {
   "cell_type": "code",
   "execution_count": null,
   "id": "8352cdf3",
   "metadata": {},
   "outputs": [],
   "source": [
    "def analyze_video_with_gemini(video_file, metadata):\n",
    "    formatted_prompt = GEMINI_ANALYSIS_PROMPT.format(\n",
    "        machine_id=metadata.get('machine_id', 'N/A'),\n",
    "        part_id=metadata.get('part_id', 'N/A'),\n",
    "        process_id=metadata.get('process_id', 'N/A'),\n",
    "        process_number=metadata.get('process_number', 'N/A')\n",
    "    )\n",
    "    \n",
    "    response = client.models.generate_content(\n",
    "        model=\"gemini-2.0-flash\",\n",
    "        contents=[video_file, formatted_prompt]\n",
    "    )\n",
    "    \n",
    "    return response.text"
   ]
  }
 ],
 "metadata": {
  "kernelspec": {
   "display_name": "Python 3",
   "language": "python",
   "name": "python3"
  },
  "language_info": {
   "codemirror_mode": {
    "name": "ipython",
    "version": 3
   },
   "file_extension": ".py",
   "mimetype": "text/x-python",
   "name": "python",
   "nbconvert_exporter": "python",
   "pygments_lexer": "ipython3",
   "version": "3.10.16"
  }
 },
 "nbformat": 4,
 "nbformat_minor": 5
}
